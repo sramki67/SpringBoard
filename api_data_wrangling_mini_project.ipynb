{
 "cells": [
  {
   "cell_type": "markdown",
   "metadata": {},
   "source": [
    "This exercise will require you to pull some data from the Qunadl API. Qaundl is currently the most widely used aggregator of financial market data."
   ]
  },
  {
   "cell_type": "markdown",
   "metadata": {},
   "source": [
    "As a first step, you will need to register a free account on the http://www.quandl.com website."
   ]
  },
  {
   "cell_type": "markdown",
   "metadata": {},
   "source": [
    "After you register, you will be provided with a unique API key, that you should store:"
   ]
  },
  {
   "cell_type": "code",
   "execution_count": 69,
   "metadata": {},
   "outputs": [],
   "source": [
    "# Store the API key as a string - according to PEP8, constants are always named in all upper case\n",
    "API_KEY = "
   ]
  },
  {
   "cell_type": "markdown",
   "metadata": {},
   "source": [
    "Qaundl has a large number of data sources, but, unfortunately, most of them require a Premium subscription. Still, there are also a good number of free datasets."
   ]
  },
  {
   "cell_type": "markdown",
   "metadata": {},
   "source": [
    "For this mini project, we will focus on equities data from the Frankfurt Stock Exhange (FSE), which is available for free. We'll try and analyze the stock prices of a company called Carl Zeiss Meditec, which manufactures tools for eye examinations, as well as medical lasers for laser eye surgery: https://www.zeiss.com/meditec/int/home.html. The company is listed under the stock ticker AFX_X."
   ]
  },
  {
   "cell_type": "markdown",
   "metadata": {},
   "source": [
    "You can find the detailed Quandl API instructions here: https://docs.quandl.com/docs/time-series"
   ]
  },
  {
   "cell_type": "markdown",
   "metadata": {},
   "source": [
    "While there is a dedicated Python package for connecting to the Quandl API, we would prefer that you use the *requests* package, which can be easily downloaded using *pip* or *conda*. You can find the documentation for the package here: http://docs.python-requests.org/en/master/ "
   ]
  },
  {
   "cell_type": "markdown",
   "metadata": {},
   "source": [
    "Finally, apart from the *requests* package, you are encouraged to not use any third party Python packages, such as *pandas*, and instead focus on what's available in the Python Standard Library (the *collections* module might come in handy: https://pymotw.com/3/collections/ ).\n",
    "Also, since you won't have access to DataFrames, you are encouraged to us Python's native data structures - preferably dictionaries, though some questions can also be answered using lists.\n",
    "You can read more on these data structures here: https://docs.python.org/3/tutorial/datastructures.html"
   ]
  },
  {
   "cell_type": "markdown",
   "metadata": {},
   "source": [
    "Keep in mind that the JSON responses you will be getting from the API map almost one-to-one to Python's dictionaries. Unfortunately, they can be very nested, so make sure you read up on indexing dictionaries in the documentation provided above."
   ]
  },
  {
   "cell_type": "markdown",
   "metadata": {},
   "source": [
    "# 1 - Get data from quandl api for a single day"
   ]
  },
  {
   "cell_type": "code",
   "execution_count": 70,
   "metadata": {},
   "outputs": [],
   "source": [
    "# First, import the relevant modules\n",
    "import requests\n",
    "import collections\n",
    "from datetime import datetime\n",
    "url='https://www.quandl.com/api/v3/datasets/FSE/AFX_X.json?&start_date=2017-10-10&end_date=2017-10-10api_key=API_KEY'\n",
    "\n",
    "r = requests.get(url)\n",
    "json_data = r.json()\n"
   ]
  },
  {
   "cell_type": "code",
   "execution_count": 71,
   "metadata": {},
   "outputs": [
    {
     "data": {
      "text/plain": [
       "{'dataset': {'id': 10095370,\n",
       "  'dataset_code': 'AFX_X',\n",
       "  'database_code': 'FSE',\n",
       "  'name': 'Carl Zeiss Meditec (AFX_X)',\n",
       "  'description': 'Stock Prices for Carl Zeiss Meditec (AFX) from the Frankfurt Stock Exchange.<br><br>Trading System: Xetra<br><br>ISIN: DE0005313704',\n",
       "  'refreshed_at': '2019-05-10T22:30:38.681Z',\n",
       "  'newest_available_date': '2019-05-10',\n",
       "  'oldest_available_date': '2000-06-07',\n",
       "  'column_names': ['Date',\n",
       "   'Open',\n",
       "   'High',\n",
       "   'Low',\n",
       "   'Close',\n",
       "   'Change',\n",
       "   'Traded Volume',\n",
       "   'Turnover',\n",
       "   'Last Price of the Day',\n",
       "   'Daily Traded Units',\n",
       "   'Daily Turnover'],\n",
       "  'frequency': 'daily',\n",
       "  'type': 'Time Series',\n",
       "  'premium': False,\n",
       "  'limit': None,\n",
       "  'transform': None,\n",
       "  'column_index': None,\n",
       "  'start_date': '2017-10-10',\n",
       "  'end_date': '2017-10-10',\n",
       "  'data': [['2017-10-10',\n",
       "    45.64,\n",
       "    46.04,\n",
       "    45.57,\n",
       "    45.84,\n",
       "    None,\n",
       "    65860.0,\n",
       "    3016658.0,\n",
       "    None,\n",
       "    None,\n",
       "    None]],\n",
       "  'collapse': None,\n",
       "  'order': None,\n",
       "  'database_id': 6129}}"
      ]
     },
     "execution_count": 71,
     "metadata": {},
     "output_type": "execute_result"
    }
   ],
   "source": [
    "json_data"
   ]
  },
  {
   "cell_type": "markdown",
   "metadata": {},
   "source": [
    "These are your tasks for this mini project:\n",
    "\n",
    "1. Collect data from the Franfurt Stock Exchange, for the ticker AFX_X, for the whole year 2017 (keep in mind that the date format is YYYY-MM-DD).\n",
    "2. Convert the returned JSON object into a Python dictionary.\n",
    "3. Calculate what the highest and lowest opening prices were for the stock in this period.\n",
    "4. What was the largest change in any one day (based on High and Low price)?\n",
    "5. What was the largest change between any two days (based on Closing Price)?\n",
    "6. What was the average daily trading volume during this year?\n",
    "7. (Optional) What was the median trading volume during this year. (Note: you may need to implement your own function for calculating the median.)"
   ]
  },
  {
   "cell_type": "markdown",
   "metadata": {},
   "source": [
    "#  2 - Below we collect the data from API for the entire period 2017 using the start_date and end_date parameters, store the same in json format"
   ]
  },
  {
   "cell_type": "code",
   "execution_count": 72,
   "metadata": {},
   "outputs": [],
   "source": [
    "url='https://www.quandl.com/api/v3/datasets/FSE/AFX_X.json?&start_date=2017-01-01&end_date=2017-12-31api_key=API_KEY'\n",
    "r = requests.get(url)\n",
    "yearly_data =r.json()"
   ]
  },
  {
   "cell_type": "code",
   "execution_count": 73,
   "metadata": {},
   "outputs": [
    {
     "data": {
      "text/plain": [
       "dict"
      ]
     },
     "execution_count": 73,
     "metadata": {},
     "output_type": "execute_result"
    }
   ],
   "source": [
    "type(yearly_data)"
   ]
  },
  {
   "cell_type": "markdown",
   "metadata": {},
   "source": [
    "# 3 - Maximum and Minimum Opening Prices for the period 2017\n",
    "By Analyzing the data we find that the column names (stock prices, volumes) etc are contained in the json_data under the list \"column_names\" while the actual values is itself under the key \"data\". Now that we have extracted the annual data for 2017, we need to parse the dict for key, value \"data\" and get the second value from this list - the value for opening price."
   ]
  },
  {
   "cell_type": "code",
   "execution_count": 74,
   "metadata": {},
   "outputs": [
    {
     "data": {
      "text/plain": [
       "list"
      ]
     },
     "execution_count": 74,
     "metadata": {},
     "output_type": "execute_result"
    }
   ],
   "source": [
    "type(yearly_data['dataset']['data'])"
   ]
  },
  {
   "cell_type": "markdown",
   "metadata": {},
   "source": [
    "Now we can iterate the above dictionary yearly_data and extract the value at index position (1)  and append these to another list named op_price"
   ]
  },
  {
   "cell_type": "code",
   "execution_count": 75,
   "metadata": {},
   "outputs": [
    {
     "name": "stdout",
     "output_type": "stream",
     "text": [
      "Maximum Opening Price : 53.11\n",
      "Minimum Opening Price : 34.0\n"
     ]
    }
   ],
   "source": [
    "op_price=[]  # Create an empty list\n",
    "\n",
    "for p in yearly_data['dataset']['data']:  # Iterate through the dictionary and get all the opening prices\n",
    "    if p[1] != None:                      # Check if the opening price is a valid price\n",
    "        op_price.append(p[1])             # Add the value to the array/list op_price so we can use the max/min methods\n",
    "        \n",
    "print (\"Maximum Opening Price :\", max(op_price))\n",
    "print (\"Minimum Opening Price :\" , min(op_price))\n",
    "    "
   ]
  },
  {
   "cell_type": "markdown",
   "metadata": {},
   "source": [
    "# 4 -Maximum daily change in price based on Opening and Closing Price\n"
   ]
  },
  {
   "cell_type": "code",
   "execution_count": 76,
   "metadata": {},
   "outputs": [],
   "source": [
    "daily_change = []  # Empty list to hold the daily change between High and Low prices\n",
    "for p in yearly_data['dataset']['data']:  # Iterate through the dictionary and get the daily High(2) and Low (3) values\n",
    "    if p[2] != None:\n",
    "        high_price = p[2]\n",
    "    if p[3] != None:\n",
    "        low_price = p[3]\n",
    "        \n",
    "    dly_change = high_price - low_price\n",
    "    daily_change.append(dly_change)"
   ]
  },
  {
   "cell_type": "code",
   "execution_count": 77,
   "metadata": {},
   "outputs": [
    {
     "name": "stdout",
     "output_type": "stream",
     "text": [
      "Maximum Daily Change in Price : 2.8100000000000023\n"
     ]
    }
   ],
   "source": [
    "print (\"Maximum Daily Change in Price :\", max(daily_change))"
   ]
  },
  {
   "cell_type": "markdown",
   "metadata": {},
   "source": [
    "# 5 -Largest Change (intra-day) based on Closing Prices\n"
   ]
  },
  {
   "cell_type": "code",
   "execution_count": 78,
   "metadata": {},
   "outputs": [
    {
     "name": "stdout",
     "output_type": "stream",
     "text": [
      "Maximum Change in Closing Price : 1.72\n"
     ]
    }
   ],
   "source": [
    "closing_price =[]\n",
    "for p in yearly_data['dataset']['data']:  # Iterate through the dictionary and get all the Closing prices\n",
    "    if p[4] != None:                      # Check if the closing price is a valid price\n",
    "        closing_price.append(p[4])  \n",
    "        \n",
    "max_closing_change = []    \n",
    "\n",
    "for x in range (0,len(closing_price)):\n",
    "    if x+1 != len(closing_price):\n",
    "        close_price = closing_price[x] - closing_price[x+1]\n",
    "        max_closing_change.append(close_price)\n",
    "        \n",
    "print(\"Maximum Change in Closing Price :\", round(max(max_closing_change),2))"
   ]
  },
  {
   "cell_type": "markdown",
   "metadata": {},
   "source": [
    "# 6 - Average Daily Trading Volume for the period (column 7 from the list)\n",
    "get the daily trading volume and then we can get the mean of this"
   ]
  },
  {
   "cell_type": "code",
   "execution_count": 79,
   "metadata": {},
   "outputs": [
    {
     "name": "stdout",
     "output_type": "stream",
     "text": [
      "Average Trading Volume for the period is : 89124.33725490196\n"
     ]
    }
   ],
   "source": [
    "trading_volume = []\n",
    "for p in yearly_data['dataset']['data']:  # Iterate through the dictionary and get all the Closing prices\n",
    "    if p[6] != None:                      # Check if the closing price is a valid price\n",
    "        trading_volume.append(p[6])  \n",
    "        \n",
    "        \n",
    "print(\"Average Trading Volume for the period is :\", sum(trading_volume)/len(trading_volume))      "
   ]
  },
  {
   "cell_type": "markdown",
   "metadata": {},
   "source": [
    "# 7 - Median  Trading Volume calculation."
   ]
  },
  {
   "cell_type": "code",
   "execution_count": 80,
   "metadata": {},
   "outputs": [
    {
     "name": "stdout",
     "output_type": "stream",
     "text": [
      "The median trading volume during 2017 =  76286.0\n"
     ]
    }
   ],
   "source": [
    "\n",
    "def median(lst):\n",
    "    lst_sorted = sorted(lst)\n",
    "    if len(lst)%2 == 1:\n",
    "        med = lst_sorted[int(len(lst)/2)]\n",
    "    if len(lst)%2 == 0:\n",
    "        med = (lst_sorted[len(lst)//2] + lst_sorted[len(lst)//2 +1])/2\n",
    "    return med\n",
    "\n",
    "print('The median trading volume during 2017 = ', median(trading_volume))\n",
    "\n",
    "\n",
    "# Define a function to calculate the Median. Median value is based on the length. If the length of the array is even\n",
    "# median value is at the midpoint of the array. If the length is even, then median value is between the mid point and\n",
    "# mid point -1. The length of the trading_volume is 255. So the median is 255/2 = volume@(127 + 128)/2\n"
   ]
  }
 ],
 "metadata": {
  "kernelspec": {
   "display_name": "Python 3",
   "language": "python",
   "name": "python3"
  },
  "language_info": {
   "codemirror_mode": {
    "name": "ipython",
    "version": 3
   },
   "file_extension": ".py",
   "mimetype": "text/x-python",
   "name": "python",
   "nbconvert_exporter": "python",
   "pygments_lexer": "ipython3",
   "version": "3.7.1"
  }
 },
 "nbformat": 4,
 "nbformat_minor": 2
}
