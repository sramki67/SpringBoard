{
 "cells": [
  {
   "cell_type": "markdown",
   "metadata": {
    "colab_type": "text",
    "id": "LHVhgGdw9xIS"
   },
   "source": [
    " # Corporacion Favorita Sales Forecasting\n",
    "        "
   ]
  },
  {
   "cell_type": "code",
   "execution_count": 33,
   "metadata": {
    "colab": {},
    "colab_type": "code",
    "id": "FhcnbT7V9xIT"
   },
   "outputs": [
    {
     "name": "stdout",
     "output_type": "stream",
     "text": [
      "['merged.csv', 'test.csv', 'train.csv', 'transactions.csv', 'items.csv', 'oil.csv', 'holidays_events.csv', 'sample_submission.csv', 'stores.csv']\n"
     ]
    }
   ],
   "source": [
    "# Import Requried Libraries\n",
    "%matplotlib inline\n",
    "import numpy as np\n",
    "import matplotlib.pyplot as plt\n",
    "import seaborn as sns\n",
    "import datetime\n",
    "import pandas as pd\n",
    "import os\n",
    "print (os.listdir('./data'))"
   ]
  },
  {
   "cell_type": "markdown",
   "metadata": {
    "colab_type": "text",
    "id": "1mV25alZ9xIZ"
   },
   "source": [
    "### Analysis of Calendar  and event information"
   ]
  },
  {
   "cell_type": "markdown",
   "metadata": {
    "colab_type": "text",
    "id": "oiscMeev9xIa"
   },
   "source": [
    "Here we load the holidays and events information and merge the information with the transactions in order to see if there is a corelation between sales and holidays and events. The holidays_events data file has 350 individual days. There are 6 unique events that indicate if a particular day was either a work day or holiday. Some of these days are also categorized as \"Bridge\", Transfer and Additional days. Analysis of this data indicates that days are combined to enable people to have longer duration of holidays to ensure work life balance.Analyzing the holiday and events indicate that there are 12 holidays that were transferred to subsequent days. These holidays are either local or national holidays as mentioned by the column 'locale'. This information is relevant because we would like to merge the holiday information with the dataset to see if there is a corelation of sales to holidays. Normally we would expect sales to be higher during the holiday(s)."
   ]
  },
  {
   "cell_type": "code",
   "execution_count": 34,
   "metadata": {
    "colab": {},
    "colab_type": "code",
    "id": "ZMoj9wNJ9xIa"
   },
   "outputs": [
    {
     "name": "stderr",
     "output_type": "stream",
     "text": [
      "/Users/Ramki/opt/anaconda3/lib/python3.7/site-packages/IPython/core/interactiveshell.py:3326: DtypeWarning: Columns (5) have mixed types. Specify dtype option on import or set low_memory=False.\n",
      "  exec(code_obj, self.user_global_ns, self.user_ns)\n"
     ]
    }
   ],
   "source": [
    "chunk_list=[]\n",
    "chunk=10000000\n",
    "types_dict = {'id': 'int32',\n",
    "             'item_nbr': 'int32',\n",
    "             'store_nbr': 'int8',\n",
    "             'unit_sales': 'float32'}\n",
    "df_chunk=pd.read_csv('./data/train.csv',usecols=[1,2,3,4,5],parse_dates=True,chunksize=chunk,iterator=True,na_values='nan',low_memory=True,dtype=types_dict)\n",
    "chunk_list.append(df_chunk)\n",
    "for chunk in chunk_list:\n",
    "    df_t = pd.concat(chunk)\n",
    "    "
   ]
  },
  {
   "cell_type": "code",
   "execution_count": 35,
   "metadata": {
    "colab": {
     "base_uri": "https://localhost:8080/",
     "height": 1000
    },
    "colab_type": "code",
    "executionInfo": {
     "elapsed": 308,
     "status": "ok",
     "timestamp": 1571394944277,
     "user": {
      "displayName": "Ramakrishnan Sundararaman",
      "photoUrl": "",
      "userId": "01801069682899495429"
     },
     "user_tz": 240
    },
    "id": "TIPhXfYeR1Ex",
    "outputId": "fa078c12-061b-4083-84a2-bf555622f0c4"
   },
   "outputs": [
    {
     "name": "stdout",
     "output_type": "stream",
     "text": [
      "<class 'pandas.core.frame.DataFrame'>\n",
      "RangeIndex: 125497040 entries, 0 to 125497039\n",
      "Data columns (total 5 columns):\n",
      "date           object\n",
      "store_nbr      int8\n",
      "item_nbr       int32\n",
      "unit_sales     float32\n",
      "onpromotion    object\n",
      "dtypes: float32(1), int32(1), int8(1), object(2)\n",
      "memory usage: 2.9+ GB\n"
     ]
    }
   ],
   "source": [
    "df_t.info()"
   ]
  },
  {
   "cell_type": "code",
   "execution_count": 36,
   "metadata": {
    "colab": {},
    "colab_type": "code",
    "id": "Z6oEEn5B9xIg"
   },
   "outputs": [],
   "source": [
    "df_t.date=pd.to_datetime(df_t.date,format='%Y-%m-%d')"
   ]
  },
  {
   "cell_type": "markdown",
   "metadata": {},
   "source": [
    "### From the training set, we only extract the sales for 1 year 2017 into a new data frame to avoid frequent crash of the kernel."
   ]
  },
  {
   "cell_type": "code",
   "execution_count": 37,
   "metadata": {},
   "outputs": [],
   "source": [
    "df_train_2017=df_t[(df_t['date']>='2017-01-01') & (df_t['date']<='2017-12-31')]"
   ]
  },
  {
   "cell_type": "code",
   "execution_count": 38,
   "metadata": {},
   "outputs": [],
   "source": [
    "del df_t  ### Save Memory"
   ]
  },
  {
   "cell_type": "code",
   "execution_count": 39,
   "metadata": {},
   "outputs": [
    {
     "name": "stdout",
     "output_type": "stream",
     "text": [
      "<class 'pandas.core.frame.DataFrame'>\n",
      "Int64Index: 23808261 entries, 101688779 to 125497039\n",
      "Data columns (total 5 columns):\n",
      "date           datetime64[ns]\n",
      "store_nbr      int8\n",
      "item_nbr       int32\n",
      "unit_sales     float32\n",
      "onpromotion    object\n",
      "dtypes: datetime64[ns](1), float32(1), int32(1), int8(1), object(1)\n",
      "memory usage: 749.3+ MB\n"
     ]
    }
   ],
   "source": [
    "df_train_2017.info()"
   ]
  },
  {
   "cell_type": "code",
   "execution_count": 40,
   "metadata": {
    "colab": {},
    "colab_type": "code",
    "id": "r1X4HbkU9xId"
   },
   "outputs": [],
   "source": [
    "df_train_2017.onpromotion=df_train_2017['onpromotion'].fillna(-1).astype(int)"
   ]
  },
  {
   "cell_type": "code",
   "execution_count": 41,
   "metadata": {
    "colab": {
     "base_uri": "https://localhost:8080/",
     "height": 204
    },
    "colab_type": "code",
    "executionInfo": {
     "elapsed": 5731,
     "status": "ok",
     "timestamp": 1571399598280,
     "user": {
      "displayName": "Ramakrishnan Sundararaman",
      "photoUrl": "",
      "userId": "01801069682899495429"
     },
     "user_tz": 240
    },
    "id": "j9yHfV989xIk",
    "outputId": "0f070954-dfaa-4beb-9b24-4ab630823103"
   },
   "outputs": [
    {
     "name": "stdout",
     "output_type": "stream",
     "text": [
      "<class 'pandas.core.frame.DataFrame'>\n",
      "Int64Index: 23808261 entries, 101688779 to 125497039\n",
      "Data columns (total 5 columns):\n",
      "date           datetime64[ns]\n",
      "store_nbr      int8\n",
      "item_nbr       int32\n",
      "unit_sales     float32\n",
      "onpromotion    int64\n",
      "dtypes: datetime64[ns](1), float32(1), int32(1), int64(1), int8(1)\n",
      "memory usage: 749.3 MB\n"
     ]
    }
   ],
   "source": [
    "df_train_2017.info()"
   ]
  },
  {
   "cell_type": "code",
   "execution_count": 42,
   "metadata": {
    "colab": {
     "base_uri": "https://localhost:8080/",
     "height": 359
    },
    "colab_type": "code",
    "executionInfo": {
     "elapsed": 828,
     "status": "ok",
     "timestamp": 1571399605343,
     "user": {
      "displayName": "Ramakrishnan Sundararaman",
      "photoUrl": "",
      "userId": "01801069682899495429"
     },
     "user_tz": 240
    },
    "id": "iro7MHhl9xIs",
    "outputId": "ef0366db-6420-43d4-91cd-ee24b20a10bd"
   },
   "outputs": [
    {
     "data": {
      "text/html": [
       "<div>\n",
       "<style scoped>\n",
       "    .dataframe tbody tr th:only-of-type {\n",
       "        vertical-align: middle;\n",
       "    }\n",
       "\n",
       "    .dataframe tbody tr th {\n",
       "        vertical-align: top;\n",
       "    }\n",
       "\n",
       "    .dataframe thead th {\n",
       "        text-align: right;\n",
       "    }\n",
       "</style>\n",
       "<table border=\"1\" class=\"dataframe\">\n",
       "  <thead>\n",
       "    <tr style=\"text-align: right;\">\n",
       "      <th></th>\n",
       "      <th>date</th>\n",
       "      <th>store_nbr</th>\n",
       "      <th>item_nbr</th>\n",
       "      <th>unit_sales</th>\n",
       "      <th>onpromotion</th>\n",
       "    </tr>\n",
       "  </thead>\n",
       "  <tbody>\n",
       "    <tr>\n",
       "      <td>101688779</td>\n",
       "      <td>2017-01-01</td>\n",
       "      <td>25</td>\n",
       "      <td>99197</td>\n",
       "      <td>1.0</td>\n",
       "      <td>0</td>\n",
       "    </tr>\n",
       "    <tr>\n",
       "      <td>101688780</td>\n",
       "      <td>2017-01-01</td>\n",
       "      <td>25</td>\n",
       "      <td>103665</td>\n",
       "      <td>7.0</td>\n",
       "      <td>0</td>\n",
       "    </tr>\n",
       "    <tr>\n",
       "      <td>101688781</td>\n",
       "      <td>2017-01-01</td>\n",
       "      <td>25</td>\n",
       "      <td>105574</td>\n",
       "      <td>1.0</td>\n",
       "      <td>0</td>\n",
       "    </tr>\n",
       "    <tr>\n",
       "      <td>101688782</td>\n",
       "      <td>2017-01-01</td>\n",
       "      <td>25</td>\n",
       "      <td>105857</td>\n",
       "      <td>4.0</td>\n",
       "      <td>0</td>\n",
       "    </tr>\n",
       "    <tr>\n",
       "      <td>101688783</td>\n",
       "      <td>2017-01-01</td>\n",
       "      <td>25</td>\n",
       "      <td>106716</td>\n",
       "      <td>2.0</td>\n",
       "      <td>0</td>\n",
       "    </tr>\n",
       "    <tr>\n",
       "      <td>101688784</td>\n",
       "      <td>2017-01-01</td>\n",
       "      <td>25</td>\n",
       "      <td>108698</td>\n",
       "      <td>2.0</td>\n",
       "      <td>0</td>\n",
       "    </tr>\n",
       "    <tr>\n",
       "      <td>101688785</td>\n",
       "      <td>2017-01-01</td>\n",
       "      <td>25</td>\n",
       "      <td>108786</td>\n",
       "      <td>1.0</td>\n",
       "      <td>0</td>\n",
       "    </tr>\n",
       "    <tr>\n",
       "      <td>101688786</td>\n",
       "      <td>2017-01-01</td>\n",
       "      <td>25</td>\n",
       "      <td>108797</td>\n",
       "      <td>1.0</td>\n",
       "      <td>0</td>\n",
       "    </tr>\n",
       "    <tr>\n",
       "      <td>101688787</td>\n",
       "      <td>2017-01-01</td>\n",
       "      <td>25</td>\n",
       "      <td>108862</td>\n",
       "      <td>1.0</td>\n",
       "      <td>0</td>\n",
       "    </tr>\n",
       "    <tr>\n",
       "      <td>101688788</td>\n",
       "      <td>2017-01-01</td>\n",
       "      <td>25</td>\n",
       "      <td>108952</td>\n",
       "      <td>2.0</td>\n",
       "      <td>0</td>\n",
       "    </tr>\n",
       "  </tbody>\n",
       "</table>\n",
       "</div>"
      ],
      "text/plain": [
       "                date  store_nbr  item_nbr  unit_sales  onpromotion\n",
       "101688779 2017-01-01         25     99197         1.0            0\n",
       "101688780 2017-01-01         25    103665         7.0            0\n",
       "101688781 2017-01-01         25    105574         1.0            0\n",
       "101688782 2017-01-01         25    105857         4.0            0\n",
       "101688783 2017-01-01         25    106716         2.0            0\n",
       "101688784 2017-01-01         25    108698         2.0            0\n",
       "101688785 2017-01-01         25    108786         1.0            0\n",
       "101688786 2017-01-01         25    108797         1.0            0\n",
       "101688787 2017-01-01         25    108862         1.0            0\n",
       "101688788 2017-01-01         25    108952         2.0            0"
      ]
     },
     "execution_count": 42,
     "metadata": {},
     "output_type": "execute_result"
    }
   ],
   "source": [
    "df_train_2017.head(10)"
   ]
  },
  {
   "cell_type": "markdown",
   "metadata": {
    "colab_type": "text",
    "id": "8t5jBQbg9xIv"
   },
   "source": [
    "#### Here we merge the information from the stores.csv so that we can use the cluster information to compute statistics. First we set the store_nbr as index in the df_t data frame and then we merge the stores on store_nbr"
   ]
  },
  {
   "cell_type": "code",
   "execution_count": 43,
   "metadata": {
    "colab": {},
    "colab_type": "code",
    "id": "KYHbDaM-9xIw"
   },
   "outputs": [],
   "source": [
    "df_stores=pd.read_csv('./data/stores.csv')"
   ]
  },
  {
   "cell_type": "code",
   "execution_count": 44,
   "metadata": {
    "colab": {
     "base_uri": "https://localhost:8080/",
     "height": 204
    },
    "colab_type": "code",
    "executionInfo": {
     "elapsed": 883,
     "status": "ok",
     "timestamp": 1571399620438,
     "user": {
      "displayName": "Ramakrishnan Sundararaman",
      "photoUrl": "",
      "userId": "01801069682899495429"
     },
     "user_tz": 240
    },
    "id": "scPTx5Ac9xIz",
    "outputId": "3f379ae4-86ed-4434-ea66-e6a25a74ee56"
   },
   "outputs": [
    {
     "data": {
      "text/html": [
       "<div>\n",
       "<style scoped>\n",
       "    .dataframe tbody tr th:only-of-type {\n",
       "        vertical-align: middle;\n",
       "    }\n",
       "\n",
       "    .dataframe tbody tr th {\n",
       "        vertical-align: top;\n",
       "    }\n",
       "\n",
       "    .dataframe thead th {\n",
       "        text-align: right;\n",
       "    }\n",
       "</style>\n",
       "<table border=\"1\" class=\"dataframe\">\n",
       "  <thead>\n",
       "    <tr style=\"text-align: right;\">\n",
       "      <th></th>\n",
       "      <th>store_nbr</th>\n",
       "      <th>city</th>\n",
       "      <th>state</th>\n",
       "      <th>type</th>\n",
       "      <th>cluster</th>\n",
       "    </tr>\n",
       "  </thead>\n",
       "  <tbody>\n",
       "    <tr>\n",
       "      <td>0</td>\n",
       "      <td>1</td>\n",
       "      <td>Quito</td>\n",
       "      <td>Pichincha</td>\n",
       "      <td>D</td>\n",
       "      <td>13</td>\n",
       "    </tr>\n",
       "    <tr>\n",
       "      <td>1</td>\n",
       "      <td>2</td>\n",
       "      <td>Quito</td>\n",
       "      <td>Pichincha</td>\n",
       "      <td>D</td>\n",
       "      <td>13</td>\n",
       "    </tr>\n",
       "    <tr>\n",
       "      <td>2</td>\n",
       "      <td>3</td>\n",
       "      <td>Quito</td>\n",
       "      <td>Pichincha</td>\n",
       "      <td>D</td>\n",
       "      <td>8</td>\n",
       "    </tr>\n",
       "    <tr>\n",
       "      <td>3</td>\n",
       "      <td>4</td>\n",
       "      <td>Quito</td>\n",
       "      <td>Pichincha</td>\n",
       "      <td>D</td>\n",
       "      <td>9</td>\n",
       "    </tr>\n",
       "    <tr>\n",
       "      <td>4</td>\n",
       "      <td>5</td>\n",
       "      <td>Santo Domingo</td>\n",
       "      <td>Santo Domingo de los Tsachilas</td>\n",
       "      <td>D</td>\n",
       "      <td>4</td>\n",
       "    </tr>\n",
       "  </tbody>\n",
       "</table>\n",
       "</div>"
      ],
      "text/plain": [
       "   store_nbr           city                           state type  cluster\n",
       "0          1          Quito                       Pichincha    D       13\n",
       "1          2          Quito                       Pichincha    D       13\n",
       "2          3          Quito                       Pichincha    D        8\n",
       "3          4          Quito                       Pichincha    D        9\n",
       "4          5  Santo Domingo  Santo Domingo de los Tsachilas    D        4"
      ]
     },
     "execution_count": 44,
     "metadata": {},
     "output_type": "execute_result"
    }
   ],
   "source": [
    "df_stores.head()"
   ]
  },
  {
   "cell_type": "markdown",
   "metadata": {
    "colab_type": "text",
    "id": "HhhNZAhH9xI2"
   },
   "source": [
    "### Feature Engineering on Stores data set. Here we use Pandas get_dummies feature to create the stores on type and cluster. Before this we drop city, state from the data set"
   ]
  },
  {
   "cell_type": "code",
   "execution_count": 45,
   "metadata": {
    "colab": {},
    "colab_type": "code",
    "id": "r5M3LEEZ9xI2"
   },
   "outputs": [],
   "source": [
    "df_stores=df_stores.drop(['city','state','cluster'],axis=1)"
   ]
  },
  {
   "cell_type": "code",
   "execution_count": 46,
   "metadata": {
    "colab": {},
    "colab_type": "code",
    "id": "kkyHEtbP9xI5"
   },
   "outputs": [],
   "source": [
    "df_store_features=pd.get_dummies(df_stores)"
   ]
  },
  {
   "cell_type": "code",
   "execution_count": 47,
   "metadata": {
    "colab": {
     "base_uri": "https://localhost:8080/",
     "height": 669
    },
    "colab_type": "code",
    "executionInfo": {
     "elapsed": 826,
     "status": "ok",
     "timestamp": 1571399628662,
     "user": {
      "displayName": "Ramakrishnan Sundararaman",
      "photoUrl": "",
      "userId": "01801069682899495429"
     },
     "user_tz": 240
    },
    "id": "z6-uEjfk9xI7",
    "outputId": "7b315f22-6dac-46a2-d4d3-a539684b3458"
   },
   "outputs": [
    {
     "data": {
      "text/html": [
       "<div>\n",
       "<style scoped>\n",
       "    .dataframe tbody tr th:only-of-type {\n",
       "        vertical-align: middle;\n",
       "    }\n",
       "\n",
       "    .dataframe tbody tr th {\n",
       "        vertical-align: top;\n",
       "    }\n",
       "\n",
       "    .dataframe thead th {\n",
       "        text-align: right;\n",
       "    }\n",
       "</style>\n",
       "<table border=\"1\" class=\"dataframe\">\n",
       "  <thead>\n",
       "    <tr style=\"text-align: right;\">\n",
       "      <th></th>\n",
       "      <th>store_nbr</th>\n",
       "      <th>type_A</th>\n",
       "      <th>type_B</th>\n",
       "      <th>type_C</th>\n",
       "      <th>type_D</th>\n",
       "      <th>type_E</th>\n",
       "    </tr>\n",
       "  </thead>\n",
       "  <tbody>\n",
       "    <tr>\n",
       "      <td>0</td>\n",
       "      <td>1</td>\n",
       "      <td>0</td>\n",
       "      <td>0</td>\n",
       "      <td>0</td>\n",
       "      <td>1</td>\n",
       "      <td>0</td>\n",
       "    </tr>\n",
       "    <tr>\n",
       "      <td>1</td>\n",
       "      <td>2</td>\n",
       "      <td>0</td>\n",
       "      <td>0</td>\n",
       "      <td>0</td>\n",
       "      <td>1</td>\n",
       "      <td>0</td>\n",
       "    </tr>\n",
       "    <tr>\n",
       "      <td>2</td>\n",
       "      <td>3</td>\n",
       "      <td>0</td>\n",
       "      <td>0</td>\n",
       "      <td>0</td>\n",
       "      <td>1</td>\n",
       "      <td>0</td>\n",
       "    </tr>\n",
       "    <tr>\n",
       "      <td>3</td>\n",
       "      <td>4</td>\n",
       "      <td>0</td>\n",
       "      <td>0</td>\n",
       "      <td>0</td>\n",
       "      <td>1</td>\n",
       "      <td>0</td>\n",
       "    </tr>\n",
       "    <tr>\n",
       "      <td>4</td>\n",
       "      <td>5</td>\n",
       "      <td>0</td>\n",
       "      <td>0</td>\n",
       "      <td>0</td>\n",
       "      <td>1</td>\n",
       "      <td>0</td>\n",
       "    </tr>\n",
       "    <tr>\n",
       "      <td>5</td>\n",
       "      <td>6</td>\n",
       "      <td>0</td>\n",
       "      <td>0</td>\n",
       "      <td>0</td>\n",
       "      <td>1</td>\n",
       "      <td>0</td>\n",
       "    </tr>\n",
       "    <tr>\n",
       "      <td>6</td>\n",
       "      <td>7</td>\n",
       "      <td>0</td>\n",
       "      <td>0</td>\n",
       "      <td>0</td>\n",
       "      <td>1</td>\n",
       "      <td>0</td>\n",
       "    </tr>\n",
       "    <tr>\n",
       "      <td>7</td>\n",
       "      <td>8</td>\n",
       "      <td>0</td>\n",
       "      <td>0</td>\n",
       "      <td>0</td>\n",
       "      <td>1</td>\n",
       "      <td>0</td>\n",
       "    </tr>\n",
       "    <tr>\n",
       "      <td>8</td>\n",
       "      <td>9</td>\n",
       "      <td>0</td>\n",
       "      <td>1</td>\n",
       "      <td>0</td>\n",
       "      <td>0</td>\n",
       "      <td>0</td>\n",
       "    </tr>\n",
       "    <tr>\n",
       "      <td>9</td>\n",
       "      <td>10</td>\n",
       "      <td>0</td>\n",
       "      <td>0</td>\n",
       "      <td>1</td>\n",
       "      <td>0</td>\n",
       "      <td>0</td>\n",
       "    </tr>\n",
       "    <tr>\n",
       "      <td>10</td>\n",
       "      <td>11</td>\n",
       "      <td>0</td>\n",
       "      <td>1</td>\n",
       "      <td>0</td>\n",
       "      <td>0</td>\n",
       "      <td>0</td>\n",
       "    </tr>\n",
       "    <tr>\n",
       "      <td>11</td>\n",
       "      <td>12</td>\n",
       "      <td>0</td>\n",
       "      <td>0</td>\n",
       "      <td>1</td>\n",
       "      <td>0</td>\n",
       "      <td>0</td>\n",
       "    </tr>\n",
       "    <tr>\n",
       "      <td>12</td>\n",
       "      <td>13</td>\n",
       "      <td>0</td>\n",
       "      <td>0</td>\n",
       "      <td>1</td>\n",
       "      <td>0</td>\n",
       "      <td>0</td>\n",
       "    </tr>\n",
       "    <tr>\n",
       "      <td>13</td>\n",
       "      <td>14</td>\n",
       "      <td>0</td>\n",
       "      <td>0</td>\n",
       "      <td>1</td>\n",
       "      <td>0</td>\n",
       "      <td>0</td>\n",
       "    </tr>\n",
       "    <tr>\n",
       "      <td>14</td>\n",
       "      <td>15</td>\n",
       "      <td>0</td>\n",
       "      <td>0</td>\n",
       "      <td>1</td>\n",
       "      <td>0</td>\n",
       "      <td>0</td>\n",
       "    </tr>\n",
       "    <tr>\n",
       "      <td>15</td>\n",
       "      <td>16</td>\n",
       "      <td>0</td>\n",
       "      <td>0</td>\n",
       "      <td>1</td>\n",
       "      <td>0</td>\n",
       "      <td>0</td>\n",
       "    </tr>\n",
       "    <tr>\n",
       "      <td>16</td>\n",
       "      <td>17</td>\n",
       "      <td>0</td>\n",
       "      <td>0</td>\n",
       "      <td>1</td>\n",
       "      <td>0</td>\n",
       "      <td>0</td>\n",
       "    </tr>\n",
       "    <tr>\n",
       "      <td>17</td>\n",
       "      <td>18</td>\n",
       "      <td>0</td>\n",
       "      <td>1</td>\n",
       "      <td>0</td>\n",
       "      <td>0</td>\n",
       "      <td>0</td>\n",
       "    </tr>\n",
       "    <tr>\n",
       "      <td>18</td>\n",
       "      <td>19</td>\n",
       "      <td>0</td>\n",
       "      <td>0</td>\n",
       "      <td>1</td>\n",
       "      <td>0</td>\n",
       "      <td>0</td>\n",
       "    </tr>\n",
       "    <tr>\n",
       "      <td>19</td>\n",
       "      <td>20</td>\n",
       "      <td>0</td>\n",
       "      <td>1</td>\n",
       "      <td>0</td>\n",
       "      <td>0</td>\n",
       "      <td>0</td>\n",
       "    </tr>\n",
       "  </tbody>\n",
       "</table>\n",
       "</div>"
      ],
      "text/plain": [
       "    store_nbr  type_A  type_B  type_C  type_D  type_E\n",
       "0           1       0       0       0       1       0\n",
       "1           2       0       0       0       1       0\n",
       "2           3       0       0       0       1       0\n",
       "3           4       0       0       0       1       0\n",
       "4           5       0       0       0       1       0\n",
       "5           6       0       0       0       1       0\n",
       "6           7       0       0       0       1       0\n",
       "7           8       0       0       0       1       0\n",
       "8           9       0       1       0       0       0\n",
       "9          10       0       0       1       0       0\n",
       "10         11       0       1       0       0       0\n",
       "11         12       0       0       1       0       0\n",
       "12         13       0       0       1       0       0\n",
       "13         14       0       0       1       0       0\n",
       "14         15       0       0       1       0       0\n",
       "15         16       0       0       1       0       0\n",
       "16         17       0       0       1       0       0\n",
       "17         18       0       1       0       0       0\n",
       "18         19       0       0       1       0       0\n",
       "19         20       0       1       0       0       0"
      ]
     },
     "execution_count": 47,
     "metadata": {},
     "output_type": "execute_result"
    }
   ],
   "source": [
    "df_store_features.head(20)"
   ]
  },
  {
   "cell_type": "markdown",
   "metadata": {
    "colab_type": "text",
    "id": "OPaCvYNH9xI-"
   },
   "source": [
    "We create the index on store_nbr on the features data set and will merge this later to the sales data set"
   ]
  },
  {
   "cell_type": "code",
   "execution_count": 48,
   "metadata": {
    "colab": {},
    "colab_type": "code",
    "id": "SgaI7f_29xI-"
   },
   "outputs": [
    {
     "name": "stdout",
     "output_type": "stream",
     "text": [
      "<class 'pandas.core.frame.DataFrame'>\n",
      "Int64Index: 23808261 entries, 25 to 54\n",
      "Data columns (total 9 columns):\n",
      "date           datetime64[ns]\n",
      "item_nbr       int32\n",
      "unit_sales     float32\n",
      "onpromotion    int64\n",
      "type_A         uint8\n",
      "type_B         uint8\n",
      "type_C         uint8\n",
      "type_D         uint8\n",
      "type_E         uint8\n",
      "dtypes: datetime64[ns](1), float32(1), int32(1), int64(1), uint8(5)\n",
      "memory usage: 840.1 MB\n"
     ]
    }
   ],
   "source": [
    "df_store_features=df_store_features.set_index('store_nbr')\n",
    "df_train_2017=df_train_2017.set_index('store_nbr')\n",
    "df_merged = df_train_2017.join(df_store_features,on='store_nbr',how='left')\n",
    "df_merged.info()"
   ]
  },
  {
   "cell_type": "markdown",
   "metadata": {},
   "source": [
    "### Code 10/23/2019 ###\n",
    "Here we delete df_t and df_stores dataframes to reclaim memory as the dataframe df_merged contains both training data and stores data"
   ]
  },
  {
   "cell_type": "code",
   "execution_count": 49,
   "metadata": {},
   "outputs": [],
   "source": [
    "del df_train_2017\n",
    "del df_stores"
   ]
  },
  {
   "cell_type": "code",
   "execution_count": 50,
   "metadata": {
    "colab": {
     "base_uri": "https://localhost:8080/",
     "height": 164
    },
    "colab_type": "code",
    "executionInfo": {
     "elapsed": 488,
     "status": "error",
     "timestamp": 1571395144691,
     "user": {
      "displayName": "Ramakrishnan Sundararaman",
      "photoUrl": "",
      "userId": "01801069682899495429"
     },
     "user_tz": 240
    },
    "id": "evxiMwC09xJA",
    "outputId": "1f58f873-5635-49b6-90c5-6f1744b739c2"
   },
   "outputs": [],
   "source": [
    "df_merged=df_merged.reset_index()  ## Reset index here so we can later add date as index"
   ]
  },
  {
   "cell_type": "code",
   "execution_count": 51,
   "metadata": {
    "colab": {
     "base_uri": "https://localhost:8080/",
     "height": 359
    },
    "colab_type": "code",
    "executionInfo": {
     "elapsed": 157,
     "status": "ok",
     "timestamp": 1571227177776,
     "user": {
      "displayName": "Ramakrishnan Sundararaman",
      "photoUrl": "",
      "userId": "01801069682899495429"
     },
     "user_tz": 240
    },
    "id": "7QzXucYW9xJD",
    "outputId": "fb6ee2a6-ec56-47e1-9ba8-909835b49fe2"
   },
   "outputs": [
    {
     "data": {
      "text/html": [
       "<div>\n",
       "<style scoped>\n",
       "    .dataframe tbody tr th:only-of-type {\n",
       "        vertical-align: middle;\n",
       "    }\n",
       "\n",
       "    .dataframe tbody tr th {\n",
       "        vertical-align: top;\n",
       "    }\n",
       "\n",
       "    .dataframe thead th {\n",
       "        text-align: right;\n",
       "    }\n",
       "</style>\n",
       "<table border=\"1\" class=\"dataframe\">\n",
       "  <thead>\n",
       "    <tr style=\"text-align: right;\">\n",
       "      <th></th>\n",
       "      <th>store_nbr</th>\n",
       "      <th>date</th>\n",
       "      <th>item_nbr</th>\n",
       "      <th>unit_sales</th>\n",
       "      <th>onpromotion</th>\n",
       "      <th>type_A</th>\n",
       "      <th>type_B</th>\n",
       "      <th>type_C</th>\n",
       "      <th>type_D</th>\n",
       "      <th>type_E</th>\n",
       "    </tr>\n",
       "  </thead>\n",
       "  <tbody>\n",
       "    <tr>\n",
       "      <td>0</td>\n",
       "      <td>25</td>\n",
       "      <td>2017-01-01</td>\n",
       "      <td>99197</td>\n",
       "      <td>1.0</td>\n",
       "      <td>0</td>\n",
       "      <td>0</td>\n",
       "      <td>0</td>\n",
       "      <td>0</td>\n",
       "      <td>1</td>\n",
       "      <td>0</td>\n",
       "    </tr>\n",
       "    <tr>\n",
       "      <td>1</td>\n",
       "      <td>25</td>\n",
       "      <td>2017-01-01</td>\n",
       "      <td>103665</td>\n",
       "      <td>7.0</td>\n",
       "      <td>0</td>\n",
       "      <td>0</td>\n",
       "      <td>0</td>\n",
       "      <td>0</td>\n",
       "      <td>1</td>\n",
       "      <td>0</td>\n",
       "    </tr>\n",
       "    <tr>\n",
       "      <td>2</td>\n",
       "      <td>25</td>\n",
       "      <td>2017-01-01</td>\n",
       "      <td>105574</td>\n",
       "      <td>1.0</td>\n",
       "      <td>0</td>\n",
       "      <td>0</td>\n",
       "      <td>0</td>\n",
       "      <td>0</td>\n",
       "      <td>1</td>\n",
       "      <td>0</td>\n",
       "    </tr>\n",
       "    <tr>\n",
       "      <td>3</td>\n",
       "      <td>25</td>\n",
       "      <td>2017-01-01</td>\n",
       "      <td>105857</td>\n",
       "      <td>4.0</td>\n",
       "      <td>0</td>\n",
       "      <td>0</td>\n",
       "      <td>0</td>\n",
       "      <td>0</td>\n",
       "      <td>1</td>\n",
       "      <td>0</td>\n",
       "    </tr>\n",
       "    <tr>\n",
       "      <td>4</td>\n",
       "      <td>25</td>\n",
       "      <td>2017-01-01</td>\n",
       "      <td>106716</td>\n",
       "      <td>2.0</td>\n",
       "      <td>0</td>\n",
       "      <td>0</td>\n",
       "      <td>0</td>\n",
       "      <td>0</td>\n",
       "      <td>1</td>\n",
       "      <td>0</td>\n",
       "    </tr>\n",
       "    <tr>\n",
       "      <td>5</td>\n",
       "      <td>25</td>\n",
       "      <td>2017-01-01</td>\n",
       "      <td>108698</td>\n",
       "      <td>2.0</td>\n",
       "      <td>0</td>\n",
       "      <td>0</td>\n",
       "      <td>0</td>\n",
       "      <td>0</td>\n",
       "      <td>1</td>\n",
       "      <td>0</td>\n",
       "    </tr>\n",
       "    <tr>\n",
       "      <td>6</td>\n",
       "      <td>25</td>\n",
       "      <td>2017-01-01</td>\n",
       "      <td>108786</td>\n",
       "      <td>1.0</td>\n",
       "      <td>0</td>\n",
       "      <td>0</td>\n",
       "      <td>0</td>\n",
       "      <td>0</td>\n",
       "      <td>1</td>\n",
       "      <td>0</td>\n",
       "    </tr>\n",
       "    <tr>\n",
       "      <td>7</td>\n",
       "      <td>25</td>\n",
       "      <td>2017-01-01</td>\n",
       "      <td>108797</td>\n",
       "      <td>1.0</td>\n",
       "      <td>0</td>\n",
       "      <td>0</td>\n",
       "      <td>0</td>\n",
       "      <td>0</td>\n",
       "      <td>1</td>\n",
       "      <td>0</td>\n",
       "    </tr>\n",
       "    <tr>\n",
       "      <td>8</td>\n",
       "      <td>25</td>\n",
       "      <td>2017-01-01</td>\n",
       "      <td>108862</td>\n",
       "      <td>1.0</td>\n",
       "      <td>0</td>\n",
       "      <td>0</td>\n",
       "      <td>0</td>\n",
       "      <td>0</td>\n",
       "      <td>1</td>\n",
       "      <td>0</td>\n",
       "    </tr>\n",
       "    <tr>\n",
       "      <td>9</td>\n",
       "      <td>25</td>\n",
       "      <td>2017-01-01</td>\n",
       "      <td>108952</td>\n",
       "      <td>2.0</td>\n",
       "      <td>0</td>\n",
       "      <td>0</td>\n",
       "      <td>0</td>\n",
       "      <td>0</td>\n",
       "      <td>1</td>\n",
       "      <td>0</td>\n",
       "    </tr>\n",
       "  </tbody>\n",
       "</table>\n",
       "</div>"
      ],
      "text/plain": [
       "   store_nbr       date  item_nbr  unit_sales  onpromotion  type_A  type_B  \\\n",
       "0         25 2017-01-01     99197         1.0            0       0       0   \n",
       "1         25 2017-01-01    103665         7.0            0       0       0   \n",
       "2         25 2017-01-01    105574         1.0            0       0       0   \n",
       "3         25 2017-01-01    105857         4.0            0       0       0   \n",
       "4         25 2017-01-01    106716         2.0            0       0       0   \n",
       "5         25 2017-01-01    108698         2.0            0       0       0   \n",
       "6         25 2017-01-01    108786         1.0            0       0       0   \n",
       "7         25 2017-01-01    108797         1.0            0       0       0   \n",
       "8         25 2017-01-01    108862         1.0            0       0       0   \n",
       "9         25 2017-01-01    108952         2.0            0       0       0   \n",
       "\n",
       "   type_C  type_D  type_E  \n",
       "0       0       1       0  \n",
       "1       0       1       0  \n",
       "2       0       1       0  \n",
       "3       0       1       0  \n",
       "4       0       1       0  \n",
       "5       0       1       0  \n",
       "6       0       1       0  \n",
       "7       0       1       0  \n",
       "8       0       1       0  \n",
       "9       0       1       0  "
      ]
     },
     "execution_count": 51,
     "metadata": {},
     "output_type": "execute_result"
    }
   ],
   "source": [
    "df_merged.head(10)"
   ]
  },
  {
   "cell_type": "code",
   "execution_count": 52,
   "metadata": {},
   "outputs": [
    {
     "name": "stdout",
     "output_type": "stream",
     "text": [
      "<class 'pandas.core.frame.DataFrame'>\n",
      "RangeIndex: 23808261 entries, 0 to 23808260\n",
      "Data columns (total 10 columns):\n",
      "store_nbr      int64\n",
      "date           datetime64[ns]\n",
      "item_nbr       int32\n",
      "unit_sales     float32\n",
      "onpromotion    int64\n",
      "type_A         uint8\n",
      "type_B         uint8\n",
      "type_C         uint8\n",
      "type_D         uint8\n",
      "type_E         uint8\n",
      "dtypes: datetime64[ns](1), float32(1), int32(1), int64(2), uint8(5)\n",
      "memory usage: 840.1 MB\n"
     ]
    }
   ],
   "source": [
    "df_merged.info()"
   ]
  },
  {
   "cell_type": "markdown",
   "metadata": {
    "colab_type": "text",
    "id": "ZfsJOr239xJH"
   },
   "source": [
    "### Function to add categorical values \"weekday"
   ]
  },
  {
   "cell_type": "markdown",
   "metadata": {
    "colab_type": "text",
    "id": "KW1RgCWz9xJI"
   },
   "source": [
    "#### Add if the day is either a week day or week end based on the date to the data frame. This will be later used to compare sales for the specific periods."
   ]
  },
  {
   "cell_type": "code",
   "execution_count": 53,
   "metadata": {},
   "outputs": [],
   "source": [
    "df_merged=df_merged.reset_index()\n",
    "\n",
    "df_merged['Day']=df_merged['date'].dt.day_name().astype(str)\n",
    "\n",
    "df_merged['Day']=df_merged['Day'].astype('str')\n",
    "\n",
    "df_merged=pd.get_dummies(df_merged)\n"
   ]
  },
  {
   "cell_type": "markdown",
   "metadata": {
    "colab_type": "text",
    "id": "pw06P9qV9xJQ"
   },
   "source": [
    "### Now add the price of oil from oil.csv to the merged data frame"
   ]
  },
  {
   "cell_type": "code",
   "execution_count": 54,
   "metadata": {
    "colab": {},
    "colab_type": "code",
    "id": "w529cv539xJY"
   },
   "outputs": [],
   "source": [
    "df_oil=pd.read_csv('./data/oil.csv',parse_dates=True)\n",
    "\n",
    "df_oil['date'] = pd.to_datetime(df_oil.date,format='%Y-%m-%d')\n",
    "\n",
    "df_oil=df_oil.set_index('date')\n",
    "\n",
    "df_merged=df_merged.set_index('date')\n",
    "df_merged=df_merged.join(df_oil,on='date',how='left')"
   ]
  },
  {
   "cell_type": "code",
   "execution_count": 59,
   "metadata": {
    "colab": {},
    "colab_type": "code",
    "id": "l25NiCZq9xJk"
   },
   "outputs": [],
   "source": [
    "df_merged['dcoilwtico']=df_merged['dcoilwtico'].fillna(method='bfill')\n",
    "df_merged=df_merged.reset_index()\n",
    "\n",
    "df_merged.set_index(['date','store_nbr','item_nbr'],inplace=True)"
   ]
  },
  {
   "cell_type": "code",
   "execution_count": 60,
   "metadata": {
    "colab": {},
    "colab_type": "code",
    "id": "KoZSQbA59xJp",
    "outputId": "ab1120f1-4624-4ed5-bcb3-910fd6557f20"
   },
   "outputs": [
    {
     "name": "stdout",
     "output_type": "stream",
     "text": [
      "<class 'pandas.core.frame.DataFrame'>\n",
      "MultiIndex: 23808261 entries, (2017-01-01 00:00:00, 25, 99197) to (2017-08-15 00:00:00, 54, 2116416)\n",
      "Data columns (total 17 columns):\n",
      "level_0          int64\n",
      "index            int64\n",
      "unit_sales       float32\n",
      "onpromotion      int64\n",
      "type_A           uint8\n",
      "type_B           uint8\n",
      "type_C           uint8\n",
      "type_D           uint8\n",
      "type_E           uint8\n",
      "Day_Friday       uint8\n",
      "Day_Monday       uint8\n",
      "Day_Saturday     uint8\n",
      "Day_Sunday       uint8\n",
      "Day_Thursday     uint8\n",
      "Day_Tuesday      uint8\n",
      "Day_Wednesday    uint8\n",
      "dcoilwtico       float64\n",
      "dtypes: float32(1), float64(1), int64(3), uint8(12)\n",
      "memory usage: 1.2 GB\n"
     ]
    }
   ],
   "source": [
    "df_merged.info()"
   ]
  },
  {
   "cell_type": "code",
   "execution_count": 61,
   "metadata": {},
   "outputs": [],
   "source": [
    "#### Standard Scaler to normalize dcoilwtico ( Oil Prices)"
   ]
  },
  {
   "cell_type": "code",
   "execution_count": 66,
   "metadata": {},
   "outputs": [
    {
     "data": {
      "text/plain": [
       "array([[  1.],\n",
       "       [  7.],\n",
       "       [  1.],\n",
       "       ...,\n",
       "       [192.],\n",
       "       [198.],\n",
       "       [  2.]], dtype=float32)"
      ]
     },
     "execution_count": 66,
     "metadata": {},
     "output_type": "execute_result"
    }
   ],
   "source": [
    "X=df_merged.drop(['level_0','index','unit_sales'],axis=1).values\n",
    "Y=df_merged['unit_sales'].values\n",
    "\n",
    "from sklearn.preprocessing import StandardScaler\n",
    "scaler = StandardScaler()\n",
    "X=scaler.fit_transform(X)\n",
    "\n",
    "X.reshape(-1,1)\n",
    "\n",
    "Y.reshape(-1,1)\n"
   ]
  },
  {
   "cell_type": "code",
   "execution_count": 67,
   "metadata": {},
   "outputs": [
    {
     "data": {
      "text/plain": [
       "(23808261, 14)"
      ]
     },
     "execution_count": 67,
     "metadata": {},
     "output_type": "execute_result"
    }
   ],
   "source": [
    "X.shape"
   ]
  },
  {
   "cell_type": "code",
   "execution_count": 68,
   "metadata": {},
   "outputs": [
    {
     "name": "stdout",
     "output_type": "stream",
     "text": [
      "Intercept: \n",
      " 8.157544183072503\n",
      "Coefficients: \n",
      " [2.13298365e+00 1.17864817e+07 1.03152094e+07 1.15538126e+07\n",
      " 1.38331625e+07 7.40480138e+06 1.43586857e+07 1.46081245e+07\n",
      " 1.48569507e+07 1.48160660e+07 1.41632339e+07 1.45171689e+07\n",
      " 1.43330639e+07 1.40594083e-01]\n",
      "R^2: 0.019132668553397902\n"
     ]
    }
   ],
   "source": [
    "from sklearn import linear_model\n",
    "from sklearn.metrics import mean_squared_error\n",
    "reg = linear_model.LinearRegression()\n",
    "reg.fit(X,Y)\n",
    "print('Intercept: \\n', reg.intercept_)\n",
    "print('Coefficients: \\n', reg.coef_)\n",
    "print(\"R^2: {}\".format(reg.score(X, Y)))"
   ]
  },
  {
   "cell_type": "code",
   "execution_count": 78,
   "metadata": {},
   "outputs": [
    {
     "data": {
      "text/html": [
       "<div>\n",
       "<style scoped>\n",
       "    .dataframe tbody tr th:only-of-type {\n",
       "        vertical-align: middle;\n",
       "    }\n",
       "\n",
       "    .dataframe tbody tr th {\n",
       "        vertical-align: top;\n",
       "    }\n",
       "\n",
       "    .dataframe thead th {\n",
       "        text-align: right;\n",
       "    }\n",
       "</style>\n",
       "<table border=\"1\" class=\"dataframe\">\n",
       "  <thead>\n",
       "    <tr style=\"text-align: right;\">\n",
       "      <th></th>\n",
       "      <th>0</th>\n",
       "    </tr>\n",
       "  </thead>\n",
       "  <tbody>\n",
       "    <tr>\n",
       "      <td>0</td>\n",
       "      <td>2</td>\n",
       "    </tr>\n",
       "    <tr>\n",
       "      <td>1</td>\n",
       "      <td>11786481</td>\n",
       "    </tr>\n",
       "    <tr>\n",
       "      <td>2</td>\n",
       "      <td>10315209</td>\n",
       "    </tr>\n",
       "    <tr>\n",
       "      <td>3</td>\n",
       "      <td>11553812</td>\n",
       "    </tr>\n",
       "    <tr>\n",
       "      <td>4</td>\n",
       "      <td>13833162</td>\n",
       "    </tr>\n",
       "    <tr>\n",
       "      <td>5</td>\n",
       "      <td>7404801</td>\n",
       "    </tr>\n",
       "    <tr>\n",
       "      <td>6</td>\n",
       "      <td>14358685</td>\n",
       "    </tr>\n",
       "    <tr>\n",
       "      <td>7</td>\n",
       "      <td>14608124</td>\n",
       "    </tr>\n",
       "    <tr>\n",
       "      <td>8</td>\n",
       "      <td>14856950</td>\n",
       "    </tr>\n",
       "    <tr>\n",
       "      <td>9</td>\n",
       "      <td>14816066</td>\n",
       "    </tr>\n",
       "    <tr>\n",
       "      <td>10</td>\n",
       "      <td>14163233</td>\n",
       "    </tr>\n",
       "    <tr>\n",
       "      <td>11</td>\n",
       "      <td>14517168</td>\n",
       "    </tr>\n",
       "    <tr>\n",
       "      <td>12</td>\n",
       "      <td>14333063</td>\n",
       "    </tr>\n",
       "    <tr>\n",
       "      <td>13</td>\n",
       "      <td>0</td>\n",
       "    </tr>\n",
       "  </tbody>\n",
       "</table>\n",
       "</div>"
      ],
      "text/plain": [
       "           0\n",
       "0          2\n",
       "1   11786481\n",
       "2   10315209\n",
       "3   11553812\n",
       "4   13833162\n",
       "5    7404801\n",
       "6   14358685\n",
       "7   14608124\n",
       "8   14856950\n",
       "9   14816066\n",
       "10  14163233\n",
       "11  14517168\n",
       "12  14333063\n",
       "13         0"
      ]
     },
     "execution_count": 78,
     "metadata": {},
     "output_type": "execute_result"
    }
   ],
   "source": [
    "df_view=pd.DataFrame(reg.coef_.astype(int))\n",
    "df_view"
   ]
  },
  {
   "cell_type": "code",
   "execution_count": 63,
   "metadata": {},
   "outputs": [
    {
     "name": "stdout",
     "output_type": "stream",
     "text": [
      "<class 'pandas.core.frame.DataFrame'>\n",
      "MultiIndex: 23808261 entries, (2017-01-01 00:00:00, 25, 99197) to (2017-08-15 00:00:00, 54, 2116416)\n",
      "Data columns (total 17 columns):\n",
      "level_0          int64\n",
      "index            int64\n",
      "unit_sales       float32\n",
      "onpromotion      int64\n",
      "type_A           uint8\n",
      "type_B           uint8\n",
      "type_C           uint8\n",
      "type_D           uint8\n",
      "type_E           uint8\n",
      "Day_Friday       uint8\n",
      "Day_Monday       uint8\n",
      "Day_Saturday     uint8\n",
      "Day_Sunday       uint8\n",
      "Day_Thursday     uint8\n",
      "Day_Tuesday      uint8\n",
      "Day_Wednesday    uint8\n",
      "dcoilwtico       float64\n",
      "dtypes: float32(1), float64(1), int64(3), uint8(12)\n",
      "memory usage: 1.2 GB\n"
     ]
    }
   ],
   "source": [
    "df_merged.info()"
   ]
  },
  {
   "cell_type": "code",
   "execution_count": 64,
   "metadata": {},
   "outputs": [
    {
     "data": {
      "text/plain": [
       "<matplotlib.axes._subplots.AxesSubplot at 0x1d52b6de50>"
      ]
     },
     "execution_count": 64,
     "metadata": {},
     "output_type": "execute_result"
    },
    {
     "data": {
      "image/png": "[encoded data removed]",
      "text/plain": [
       "<Figure size 432x288 with 2 Axes>"
      ]
     },
     "metadata": {
      "needs_background": "light"
     },
     "output_type": "display_data"
    }
   ],
   "source": [
    "sns.heatmap(df_merged.corr(),square=True,cmap='coolwarm')"
   ]
  }
 ],
 "metadata": {
  "accelerator": "GPU",
  "colab": {
   "collapsed_sections": [
    "pw06P9qV9xJQ",
    "R03vPGbB9xK4",
    "qrc0_Ya39xK-",
    "yN8DgBpz9xLR",
    "dHCRbdmj9xLV",
    "KascrxXq9xLk",
    "kwSlXSxn9xLz",
    "HBAjB27H9xL3",
    "58xJh_NA9xL8",
    "3iqiqqez9xMG",
    "94B5SWua9xMl"
   ],
   "machine_shape": "hm",
   "name": "Sales_forecasting_test.ipynb",
   "provenance": [],
   "toc_visible": true
  },
  "kernelspec": {
   "display_name": "Python 3",
   "language": "python",
   "name": "python3"
  },
  "language_info": {
   "codemirror_mode": {
    "name": "ipython",
    "version": 3
   },
   "file_extension": ".py",
   "mimetype": "text/x-python",
   "name": "python",
   "nbconvert_exporter": "python",
   "pygments_lexer": "ipython3",
   "version": "3.7.4"
  }
 },
 "nbformat": 4,
 "nbformat_minor": 1
}
